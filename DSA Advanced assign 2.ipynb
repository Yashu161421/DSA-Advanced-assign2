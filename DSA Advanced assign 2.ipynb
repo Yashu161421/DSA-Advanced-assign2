{
 "cells": [
  {
   "cell_type": "markdown",
   "id": "4b29032a",
   "metadata": {},
   "source": [
    "#QUESTION 1"
   ]
  },
  {
   "cell_type": "code",
   "execution_count": 6,
   "id": "1d14f8fc",
   "metadata": {},
   "outputs": [],
   "source": [
    "x = [1,2,4,6,8,3,5,7,0,9]"
   ]
  },
  {
   "cell_type": "code",
   "execution_count": 7,
   "id": "10e79756",
   "metadata": {
    "scrolled": true
   },
   "outputs": [
    {
     "name": "stdout",
     "output_type": "stream",
     "text": [
      "3\n"
     ]
    }
   ],
   "source": [
    "def bs(x,v,l,h):\n",
    "    if l>h:\n",
    "        return 'value not found'\n",
    "    m = (l+h)//2\n",
    "    mid_value = x[m]\n",
    "    if mid_value == v:\n",
    "        return m\n",
    "    if mid_value < v:\n",
    "        l = m+1\n",
    "    if mid_value > v:\n",
    "        h = m-1\n",
    "    return(bs(x,v,l,h))\n",
    "\n",
    "print(bs(x,6,0,len(x)-1))  \n",
    "        \n"
   ]
  },
  {
   "cell_type": "markdown",
   "id": "2139baa6",
   "metadata": {},
   "source": [
    "#QUESTION 2"
   ]
  },
  {
   "cell_type": "code",
   "execution_count": 6,
   "id": "7f1e209a",
   "metadata": {},
   "outputs": [],
   "source": [
    "def merge(x,l,m,r):\n",
    "  n1= m-l+1\n",
    "  n2 =r-m\n",
    "\n",
    "  L = []\n",
    "  R = []\n",
    "\n",
    "  for i in range(0,n1):\n",
    "    L.append(x[l+i])\n",
    "  for i in range(0,n2):\n",
    "    R.append(x[m+1+i])\n",
    "\n",
    "  i = 0\n",
    "  j = 0\n",
    "  k = l\n",
    "  while i<n1 and j<n2:\n",
    "    if L[i]<=R[j]:\n",
    "      x[k] = L[i]\n",
    "      i+=1\n",
    "    else:\n",
    "      x[k]= R[j]\n",
    "      j+=1\n",
    "    k+=1\n",
    "  while i <n1:\n",
    "    x[k] = L[i]\n",
    "    i+=1\n",
    "    k+=1\n",
    "  while j <n2:\n",
    "    x[k] = R[j]\n",
    "    j+=1\n",
    "    k+=1\n",
    "    \n",
    "x =[2,3,4,5,6,77,23,45,66,77,89,43,53,22,4,55,6,89]\n"
   ]
  },
  {
   "cell_type": "code",
   "execution_count": 7,
   "id": "d0c93960",
   "metadata": {},
   "outputs": [
    {
     "name": "stdout",
     "output_type": "stream",
     "text": [
      "[2, 3, 4, 5, 6, 77, 23, 45, 66, 77, 89, 43, 53, 22, 4, 55, 6, 89]\n"
     ]
    }
   ],
   "source": [
    "def mergesort(x,l,r):\n",
    "  if l < r:\n",
    "    m = l+(r-l)//2\n",
    "    mergesort(x,l,m)\n",
    "    mergesort(x,m+1,r)\n",
    "    merge(x,l,m,r)\n",
    "print(x)"
   ]
  },
  {
   "cell_type": "code",
   "execution_count": 8,
   "id": "292b947f",
   "metadata": {},
   "outputs": [],
   "source": [
    "mergesort(x,0,len(x)-1)"
   ]
  },
  {
   "cell_type": "code",
   "execution_count": 9,
   "id": "08b8bc70",
   "metadata": {},
   "outputs": [
    {
     "data": {
      "text/plain": [
       "[2, 3, 4, 4, 5, 6, 6, 22, 23, 43, 45, 53, 55, 66, 77, 77, 89, 89]"
      ]
     },
     "execution_count": 9,
     "metadata": {},
     "output_type": "execute_result"
    }
   ],
   "source": [
    "x"
   ]
  },
  {
   "cell_type": "markdown",
   "id": "74902c33",
   "metadata": {},
   "source": [
    "#QUESTION 3"
   ]
  },
  {
   "cell_type": "code",
   "execution_count": 13,
   "id": "bf808efb",
   "metadata": {},
   "outputs": [],
   "source": [
    "def quicksort(x):\n",
    "  if len(x)<=1:\n",
    "    return(x)\n",
    "  else:\n",
    "    pivot = x[0]\n",
    "    left = [i for i in x[1:] if i <= pivot]\n",
    "    right = [i for i in x[1:] if i > pivot]\n",
    "    return quicksort(left)+[pivot]+quicksort(right)"
   ]
  },
  {
   "cell_type": "code",
   "execution_count": 14,
   "id": "e95d9b05",
   "metadata": {},
   "outputs": [
    {
     "name": "stdout",
     "output_type": "stream",
     "text": [
      "[2, 4, 6, 8, 9, 14, 16, 21, 24, 33, 35, 43, 54, 56, 64, 67, 78, 87]\n"
     ]
    }
   ],
   "source": [
    "x =[6,54,33,24,2,4,8,9,78,21,16,14,35,64,87,56,43,67]\n",
    "print(quicksort(x))"
   ]
  },
  {
   "cell_type": "markdown",
   "id": "40334fad",
   "metadata": {},
   "source": [
    "#QUESTION 4"
   ]
  },
  {
   "cell_type": "code",
   "execution_count": 18,
   "id": "fd23dba7",
   "metadata": {},
   "outputs": [
    {
     "name": "stdout",
     "output_type": "stream",
     "text": [
      "[2, 4, 6, 8, 10, 15, 16, 21, 24, 26, 32, 34, 43, 55, 56, 76, 76, 98]\n"
     ]
    }
   ],
   "source": [
    "def insertion_sort(x):\n",
    "    l = len(x)\n",
    "    if l <= 1:\n",
    "        return\n",
    "\n",
    "    for i in range(1, l):\n",
    "        n = x[i]\n",
    "        j = i - 1\n",
    "        while j >= 0 and n <= x[j]:\n",
    "            x[j + 1] = x[j]\n",
    "            j = j - 1\n",
    "        x[j + 1] = n\n",
    "\n",
    "x = [4, 6, 8, 10, 2, 32, 43, 15, 21, 26, 24, 56, 55, 98, 76, 16, 34, 76]\n",
    "insertion_sort(x)\n",
    "print(x)\n"
   ]
  },
  {
   "cell_type": "markdown",
   "id": "57609f4e",
   "metadata": {},
   "source": [
    "#QUESTION 5"
   ]
  },
  {
   "cell_type": "code",
   "execution_count": 23,
   "id": "2b69f0d8",
   "metadata": {},
   "outputs": [
    {
     "name": "stdout",
     "output_type": "stream",
     "text": [
      "Sorted List of Strings:\n",
      "Apple\n",
      "Date\n",
      "Grape\n",
      "Mango\n",
      "Orange\n"
     ]
    }
   ],
   "source": [
    "def sort_strings(strings):\n",
    "    return sorted(strings)\n",
    "\n",
    "# List of strings\n",
    "strings = [\"Mango\", \"Apple\", \"Orange\", \"Date\", \"Grape\"]\n",
    "\n",
    "# Sort the list using the sort_strings function\n",
    "sorted_strings = sort_strings(strings)\n",
    "\n",
    "# Print the sorted list\n",
    "print(\"Sorted List of Strings:\")\n",
    "for string in sorted_strings:\n",
    "    print(string)\n"
   ]
  },
  {
   "cell_type": "code",
   "execution_count": null,
   "id": "63641cb2",
   "metadata": {},
   "outputs": [],
   "source": []
  }
 ],
 "metadata": {
  "kernelspec": {
   "display_name": "Python 3 (ipykernel)",
   "language": "python",
   "name": "python3"
  },
  "language_info": {
   "codemirror_mode": {
    "name": "ipython",
    "version": 3
   },
   "file_extension": ".py",
   "mimetype": "text/x-python",
   "name": "python",
   "nbconvert_exporter": "python",
   "pygments_lexer": "ipython3",
   "version": "3.11.3"
  }
 },
 "nbformat": 4,
 "nbformat_minor": 5
}
